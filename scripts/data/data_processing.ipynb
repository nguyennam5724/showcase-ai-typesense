{
 "cells": [
  {
   "cell_type": "code",
   "execution_count": null,
   "metadata": {
    "id": "OpJXH4fVKSOM"
   },
   "outputs": [],
   "source": [
    "from urllib.request import urlretrieve\n",
    "from PIL import Image\n",
    "import os\n",
    "\n",
    "import pandas as pd\n",
    "import shutil\n",
    "data_dir = '/content/diffusiondb-part-1-to-5'"
   ]
  },
  {
   "cell_type": "code",
   "execution_count": null,
   "metadata": {
    "colab": {
     "base_uri": "https://localhost:8080/"
    },
    "id": "hMrYaf9GK_vn",
    "outputId": "4f933d14-9bcf-455b-a05c-690bf56cbe8d"
   },
   "outputs": [
    {
     "data": {
      "text/plain": [
       "('part-000005.zip', <http.client.HTTPMessage at 0x78255ea12200>)"
      ]
     },
     "execution_count": 5,
     "metadata": {},
     "output_type": "execute_result"
    }
   ],
   "source": [
    "\n",
    "part_url = f'https://huggingface.co/datasets/poloclub/diffusiondb/resolve/main/images/part-000001.zip'\n",
    "urlretrieve(part_url, f'part-000001.zip')\n",
    "\n",
    "part_url = f'https://huggingface.co/datasets/poloclub/diffusiondb/resolve/main/images/part-000002.zip'\n",
    "urlretrieve(part_url, f'part-000002.zip')\n",
    "\n",
    "part_url = f'https://huggingface.co/datasets/poloclub/diffusiondb/resolve/main/images/part-000003.zip'\n",
    "urlretrieve(part_url, f'part-000003.zip')\n",
    "\n",
    "part_url = f'https://huggingface.co/datasets/poloclub/diffusiondb/resolve/main/images/part-000004.zip'\n",
    "urlretrieve(part_url, f'part-000004.zip')\n",
    "\n",
    "part_url = f'https://huggingface.co/datasets/poloclub/diffusiondb/resolve/main/images/part-000005.zip'\n",
    "urlretrieve(part_url, f'part-000005.zip')"
   ]
  },
  {
   "cell_type": "code",
   "execution_count": null,
   "metadata": {
    "id": "4jSyYi0bMdmG"
   },
   "outputs": [],
   "source": [
    "shutil.unpack_archive(f'/content/part-000001.zip', f'diffusiondb-part-1-to-5')\n",
    "shutil.unpack_archive(f'/content/part-000002.zip', f'diffusiondb-part-1-to-5')\n",
    "shutil.unpack_archive(f'/content/part-000003.zip', f'diffusiondb-part-1-to-5')\n",
    "shutil.unpack_archive(f'/content/part-000004.zip', f'diffusiondb-part-1-to-5')\n",
    "shutil.unpack_archive(f'/content/part-000005.zip', f'diffusiondb-part-1-to-5')"
   ]
  },
  {
   "cell_type": "code",
   "execution_count": null,
   "metadata": {
    "colab": {
     "base_uri": "https://localhost:8080/"
    },
    "id": "cdFVb4wF2xCm",
    "outputId": "46b451e4-87ba-45f2-c0e6-dcac9155a92d"
   },
   "outputs": [
    {
     "data": {
      "text/plain": [
       "5000"
      ]
     },
     "execution_count": 7,
     "metadata": {},
     "output_type": "execute_result"
    }
   ],
   "source": [
    "os.remove(f'{data_dir}/part-000001.json')\n",
    "os.remove(f'{data_dir}/part-000002.json')\n",
    "os.remove(f'{data_dir}/part-000003.json')\n",
    "os.remove(f'{data_dir}/part-000004.json')\n",
    "os.remove(f'{data_dir}/part-000005.json')\n",
    "len(os.listdir(data_dir))"
   ]
  },
  {
   "cell_type": "code",
   "execution_count": null,
   "metadata": {
    "colab": {
     "base_uri": "https://localhost:8080/"
    },
    "id": "N6Ocby7L_dp4",
    "outputId": "69ef469a-c0f7-4cd5-b89d-5a5abcc73c88"
   },
   "outputs": [
    {
     "data": {
      "text/plain": [
       "('metadata.parquet', <http.client.HTTPMessage at 0x7f566f162bc0>)"
      ]
     },
     "execution_count": 5,
     "metadata": {},
     "output_type": "execute_result"
    }
   ],
   "source": [
    "metadata = f'https://huggingface.co/datasets/poloclub/diffusiondb/resolve/main/metadata.parquet'\n",
    "urlretrieve(metadata, f'metadata.parquet')"
   ]
  },
  {
   "cell_type": "code",
   "execution_count": null,
   "metadata": {
    "id": "8PcS2tYQSvwW"
   },
   "outputs": [],
   "source": [
    "metadata_df = pd.read_parquet('metadata.parquet')"
   ]
  },
  {
   "cell_type": "code",
   "metadata": {
    "colab": {
     "base_uri": "https://localhost:8080/",
     "height": 632
    },
    "id": "GAIV-sqXTREq",
    "outputId": "b59c02c0-215e-49d7-fb30-77981c8ea545"
   },
   "source": [
    "metadata_df[:5000]"
   ],
   "outputs": [],
   "execution_count": null
  },
  {
   "cell_type": "code",
   "metadata": {
    "colab": {
     "base_uri": "https://localhost:8080/",
     "height": 632
    },
    "id": "IzrsQNxQ_QAU",
    "outputId": "07869811-fed1-472d-e62f-76c8550c01e0"
   },
   "source": [
    "metadata_df = metadata_df[:5000]\n",
    "nsfw_filtered = metadata_df.loc[(metadata_df['image_nsfw'] <= .6) & (\n",
    "    metadata_df['prompt_nsfw'] <= .2)]\n",
    "nsfw_filtered"
   ],
   "outputs": [],
   "execution_count": null
  },
  {
   "cell_type": "markdown",
   "metadata": {
    "id": "tNLDYgwHiURR"
   },
   "source": [
    "### Rate image using aesthetic-scorer\n"
   ]
  },
  {
   "cell_type": "code",
   "execution_count": null,
   "metadata": {
    "colab": {
     "base_uri": "https://localhost:8080/"
    },
    "id": "3TjKPRSwnKLp",
    "outputId": "fb8896c5-fb56-48e0-cdbe-cc5f5f4c6b69"
   },
   "outputs": [
    {
     "name": "stdout",
     "output_type": "stream",
     "text": [
      "Cloning into 'aesthetics-scorer'...\n",
      "remote: Enumerating objects: 309, done.\u001B[K\n",
      "remote: Counting objects: 100% (46/46), done.\u001B[K\n",
      "remote: Compressing objects: 100% (40/40), done.\u001B[K\n",
      "remote: Total 309 (delta 12), reused 21 (delta 5), pack-reused 263\u001B[K\n",
      "Receiving objects: 100% (309/309), 373.88 MiB | 34.70 MiB/s, done.\n",
      "Resolving deltas: 100% (138/138), done.\n",
      "Updating files: 100% (61/61), done.\n"
     ]
    }
   ],
   "source": [
    "!git clone https://github.com/kenjiqq/aesthetics-scorer"
   ]
  },
  {
   "cell_type": "code",
   "execution_count": null,
   "metadata": {
    "id": "jad07aTKnAEc"
   },
   "outputs": [],
   "source": [
    "import torch\n",
    "import torch.nn as nn\n",
    "import json\n",
    "import os\n",
    "\n",
    "\n",
    "class AestheticScorer(nn.Module):\n",
    "    def __init__(self, input_size=0, use_activation=False, dropout=0.2, config=None, hidden_dim=1024, reduce_dims=False, output_activation=None):\n",
    "        super().__init__()\n",
    "        self.config = {\n",
    "            \"input_size\": input_size,\n",
    "            \"use_activation\": use_activation,\n",
    "            \"dropout\": dropout,\n",
    "            \"hidden_dim\": hidden_dim,\n",
    "            \"reduce_dims\": reduce_dims,\n",
    "            \"output_activation\": output_activation\n",
    "        }\n",
    "        if config != None:\n",
    "            self.config.update(config)\n",
    "\n",
    "        layers = [\n",
    "            nn.Linear(self.config[\"input_size\"], self.config[\"hidden_dim\"]),\n",
    "            nn.ReLU() if self.config[\"use_activation\"] else None,\n",
    "            nn.Dropout(self.config[\"dropout\"]),\n",
    "\n",
    "            nn.Linear(self.config[\"hidden_dim\"], round(\n",
    "                self.config[\"hidden_dim\"] / (2 if reduce_dims else 1))),\n",
    "            nn.ReLU() if self.config[\"use_activation\"] else None,\n",
    "            nn.Dropout(self.config[\"dropout\"]),\n",
    "\n",
    "            nn.Linear(round(self.config[\"hidden_dim\"] / (2 if reduce_dims else 1)), round(\n",
    "                self.config[\"hidden_dim\"] / (4 if reduce_dims else 1))),\n",
    "            nn.ReLU() if self.config[\"use_activation\"] else None,\n",
    "            nn.Dropout(self.config[\"dropout\"]),\n",
    "\n",
    "            nn.Linear(round(self.config[\"hidden_dim\"] / (4 if reduce_dims else 1)), round(\n",
    "                self.config[\"hidden_dim\"] / (8 if reduce_dims else 1))),\n",
    "            nn.ReLU() if self.config[\"use_activation\"] else None,\n",
    "            nn.Linear(\n",
    "                round(self.config[\"hidden_dim\"] / (8 if reduce_dims else 1)), 1),\n",
    "        ]\n",
    "        if self.config[\"output_activation\"] == \"sigmoid\":\n",
    "            layers.append(\n",
    "                nn.Sigmoid()\n",
    "            )\n",
    "        layers = [x for x in layers if x is not None]\n",
    "        self.layers = nn.Sequential(\n",
    "            *layers\n",
    "        )\n",
    "\n",
    "    def forward(self, x):\n",
    "        if self.config[\"output_activation\"] == \"sigmoid\":\n",
    "            upper, lower = 10, 1\n",
    "            scale = upper - lower\n",
    "            return (self.layers(x) * scale) + lower\n",
    "        else:\n",
    "            return self.layers(x)\n",
    "\n",
    "    def save(self, save_name):\n",
    "        split_name = os.path.splitext(save_name)\n",
    "        with open(f\"{split_name[0]}.config\", \"w\") as outfile:\n",
    "            outfile.write(json.dumps(self.config, indent=4))\n",
    "\n",
    "        for i in range(6):  # saving sometiles fails, so retry 5 times, might be windows issue\n",
    "            try:\n",
    "                torch.save(self.state_dict(), save_name)\n",
    "                break\n",
    "            except RuntimeError as e:\n",
    "                # check if error contains string \"File\"\n",
    "                if \"cannot be opened\" in str(e) and i < 5:\n",
    "                    print(\"Model save failed, retrying...\")\n",
    "                else:\n",
    "                    raise e\n",
    "\n",
    "\n",
    "def preprocess(embeddings):\n",
    "    return embeddings / embeddings.norm(p=2, dim=-1, keepdim=True)\n",
    "\n",
    "\n",
    "def load_model(weight_path, device='cuda' if torch.cuda.is_available() else 'cpu'):\n",
    "    split_path = os.path.splitext(weight_path)\n",
    "    with open(f\"{split_path[0]}.config\", \"r\") as config_file:\n",
    "        config = json.load(config_file)\n",
    "    model = AestheticScorer(config=config)\n",
    "    model.load_state_dict(torch.load(weight_path, map_location=device))\n",
    "    model.eval()\n",
    "    return model"
   ]
  },
  {
   "cell_type": "code",
   "execution_count": null,
   "metadata": {
    "id": "jtb77pdUUBaH"
   },
   "outputs": [],
   "source": [
    "from transformers import CLIPModel, CLIPProcessor\n",
    "\n",
    "MODEL = \"laion/CLIP-ViT-H-14-laion2B-s32B-b79K\"\n",
    "DEVICE = 'cuda' if torch.cuda.is_available() else 'cpu'\n",
    "\n",
    "model = CLIPModel.from_pretrained(MODEL)\n",
    "vision_model = model.vision_model\n",
    "vision_model.to(DEVICE)\n",
    "del model\n",
    "clip_processor = CLIPProcessor.from_pretrained(MODEL)\n",
    "\n",
    "rating_model = load_model(\n",
    "    \"/content/aesthetics-scorer/aesthetics_scorer/models/aesthetics_scorer_rating_openclip_vit_h_14.pth\").to(DEVICE)\n",
    "artifacts_model = load_model(\n",
    "    \"/content/aesthetics-scorer/aesthetics_scorer/models/aesthetics_scorer_artifacts_openclip_vit_h_14.pth\").to(DEVICE)\n",
    "\n",
    "\n",
    "def predict(img):\n",
    "    inputs = clip_processor(images=img, return_tensors=\"pt\").to(DEVICE)\n",
    "    with torch.no_grad():\n",
    "        vision_output = vision_model(**inputs)\n",
    "    pooled_output = vision_output.pooler_output\n",
    "    embedding = preprocess(pooled_output)\n",
    "    with torch.no_grad():\n",
    "        rating = rating_model(embedding)\n",
    "        artifact = artifacts_model(embedding)\n",
    "    return rating.detach().cpu().item(), artifact.detach().cpu().item()"
   ]
  },
  {
   "cell_type": "code",
   "execution_count": null,
   "metadata": {
    "id": "xon-XtnnQqVQ"
   },
   "outputs": [],
   "source": [
    "# def predict(img):\n",
    "#     inputs = clip_processor(images=img, return_tensors=\"pt\").to(DEVICE)\n",
    "#     with torch.no_grad():\n",
    "#         vision_output = vision_model(**inputs)\n",
    "#     pooled_output = vision_output.pooler_output\n",
    "#     embedding = preprocess(pooled_output)\n",
    "#     with torch.no_grad():\n",
    "#         rating = rating_model(embedding)\n",
    "#         artifact = artifacts_model(embedding)\n",
    "#     return lambda x :x[0] ,rating.detach().cpu(), artifact.detach().cpu().tolist()"
   ]
  },
  {
   "cell_type": "code",
   "execution_count": null,
   "metadata": {
    "id": "CrRq6vYgDPgv"
   },
   "outputs": [],
   "source": [
    "# def rateImage(image_names):\n",
    "#   images = []\n",
    "#   for image_name in image_names:\n",
    "#     images.append(Image.open(f'{data_dir}/{image_name}'))\n",
    "#   return predict(images)"
   ]
  },
  {
   "cell_type": "code",
   "metadata": {
    "colab": {
     "base_uri": "https://localhost:8080/"
    },
    "id": "y20BABJNQCkk",
    "outputId": "78bcb512-f847-467c-8154-1167967006b1"
   },
   "source": [
    "# rateImage(['058d0e39-92f3-403c-8b64-8411b5062e82.png','92c488a0-4297-45c1-a001-76aee6399d30.png','ba37e532-41f6-46ef-a521-1dff30cfbce5.png','bcaacfc0-36ed-4de7-8ff7-1bf1f2912b79.png',])"
   ],
   "outputs": [],
   "execution_count": null
  },
  {
   "cell_type": "code",
   "execution_count": null,
   "metadata": {
    "id": "KF7RZv4_EYsz"
   },
   "outputs": [],
   "source": [
    "# test = metadata_df.loc[(metadata_df['image_nsfw'] <= .6) & (metadata_df['prompt_nsfw'] <= .2)]"
   ]
  },
  {
   "cell_type": "code",
   "metadata": {
    "colab": {
     "base_uri": "https://localhost:8080/",
     "height": 321
    },
    "id": "BxGdR6v8EiQ-",
    "outputId": "988e8102-6cb9-40e0-e98e-5ab9f1649bcf"
   },
   "source": [
    "# test[:1000]['rating'], test[:1000]['artifact'] = rateImage(test[:1000]['image_name'])"
   ],
   "outputs": [],
   "execution_count": null
  },
  {
   "cell_type": "code",
   "execution_count": null,
   "metadata": {
    "id": "U9jl5-9O0fY7"
   },
   "outputs": [],
   "source": [
    "def rateImage(image_names):\n",
    "    ratings = []\n",
    "    artifacts = []\n",
    "    for image_name in image_names:\n",
    "        rating, artifact = predict(Image.open(f'{data_dir}/{image_name}'))\n",
    "        ratings.append(rating)\n",
    "        artifacts.append(artifact)\n",
    "    return ratings, artifacts"
   ]
  },
  {
   "cell_type": "code",
   "metadata": {
    "colab": {
     "base_uri": "https://localhost:8080/",
     "height": 1000
    },
    "id": "OOeshFd44HUL",
    "outputId": "1fb251d6-9278-473d-ca30-130008cc9618"
   },
   "source": [
    "nsfw_filtered['rating'], nsfw_filtered['artifact'] = rateImage(\n",
    "    nsfw_filtered['image_name'])\n",
    "nsfw_filtered"
   ],
   "outputs": [],
   "execution_count": null
  },
  {
   "cell_type": "code",
   "execution_count": null,
   "metadata": {
    "id": "p57IagKADtzD"
   },
   "outputs": [],
   "source": [
    "nsfw_filtered.to_parquet(path='/content/Prompts-search/nsfw_filtered.parquet')"
   ]
  },
  {
   "cell_type": "code",
   "execution_count": null,
   "metadata": {
    "id": "twrx6kdqzqMv"
   },
   "outputs": [],
   "source": [
    "nsfw_filtered = pd.read_parquet(\n",
    "    '/content/Prompts-search/nsfw_filtered.parquet')"
   ]
  },
  {
   "cell_type": "code",
   "metadata": {
    "colab": {
     "base_uri": "https://localhost:8080/",
     "height": 597
    },
    "id": "19z6YQGYFRS7",
    "outputId": "96ace35e-55ad-4777-e59c-9a78bbae833d"
   },
   "source": [
    "aesthetics_filtered = nsfw_filtered.loc[(\n",
    "    nsfw_filtered['rating'] >= 6.5) & (nsfw_filtered['artifact'] <= 2)]\n",
    "aesthetics_filtered.drop_duplicates(subset=['image_name'])"
   ],
   "outputs": [],
   "execution_count": null
  },
  {
   "cell_type": "code",
   "metadata": {
    "colab": {
     "base_uri": "https://localhost:8080/",
     "height": 529
    },
    "id": "nmNq_lR_GhsU",
    "outputId": "c9cd4b6d-2ffc-4d9f-ae3c-1be2473af099"
   },
   "source": [
    "Image.open(f'{data_dir}/dc71658a-5e4b-4dca-861a-e1535510348b.png')"
   ],
   "outputs": [],
   "execution_count": null
  },
  {
   "cell_type": "markdown",
   "metadata": {
    "id": "Q_XQwUfrihXQ"
   },
   "source": [
    "### Add a new pandas column contain base64 encoded string of images\n"
   ]
  },
  {
   "cell_type": "code",
   "metadata": {
    "colab": {
     "base_uri": "https://localhost:8080/"
    },
    "id": "ZMBGyRx34HkE",
    "outputId": "27a682e9-de3a-4e54-fabc-c574da2764be"
   },
   "source": [
    "import base64\n",
    "\n",
    "\n",
    "def addImageBase64Column(row):\n",
    "    with open(f\"{data_dir}/{row['image_name']}\", \"rb\") as image_file:\n",
    "        return base64.b64encode(image_file.read()).decode()\n",
    "\n",
    "\n",
    "aesthetics_filtered['image'] = aesthetics_filtered.apply(\n",
    "    addImageBase64Column, axis=1)"
   ],
   "outputs": [],
   "execution_count": null
  },
  {
   "cell_type": "code",
   "metadata": {
    "colab": {
     "base_uri": "https://localhost:8080/",
     "height": 424
    },
    "id": "UKjUhR794HkE",
    "outputId": "fa88ef0e-7dc6-466e-8ce1-c0c5e361329b"
   },
   "source": [
    "dropped = aesthetics_filtered.drop(['user_name', 'timestamp', 'image_nsfw',\n",
    "                                   'prompt_nsfw', 'part_id', 'width', 'height', 'rating', 'artifact'], axis=1)\n",
    "dropped['id'] = dropped['image_name'].str[:-4]\n",
    "dropped"
   ],
   "outputs": [],
   "execution_count": null
  },
  {
   "cell_type": "markdown",
   "metadata": {
    "id": "eiM3mGWBinf6"
   },
   "source": [
    "### Export to JSON\n"
   ]
  },
  {
   "cell_type": "code",
   "execution_count": null,
   "metadata": {
    "id": "Q18p0TzuB6-x"
   },
   "outputs": [],
   "source": [
    "with open(f'/content/diffusiondb-part-1-to-5-with-base64-images-full.jsonl', 'w') as f:\n",
    "    json_full = dropped.to_json(orient='records', lines=True)\n",
    "    f.write(json_full)"
   ]
  },
  {
   "cell_type": "code",
   "execution_count": null,
   "metadata": {
    "id": "AFIZEl6FvRb_"
   },
   "outputs": [],
   "source": [
    "with open(f'/content/20-images.jsonl', 'w') as f:\n",
    "    test_json = dropped[:20].to_json(orient='records', lines=True)\n",
    "    f.write(test_json)"
   ]
  },
  {
   "cell_type": "markdown",
   "metadata": {},
   "source": [
    "### Create a zip file of filtered images\n"
   ]
  },
  {
   "cell_type": "code",
   "execution_count": 1,
   "metadata": {
    "id": "kWTfsJ3WkLBQ"
   },
   "outputs": [],
   "source": [
    "import shutil"
   ]
  },
  {
   "cell_type": "code",
   "execution_count": null,
   "metadata": {
    "colab": {
     "base_uri": "https://localhost:8080/"
    },
    "id": "qKLfnPPgjd3f",
    "outputId": "094bc11b-afa2-4b2b-ad84-a47710c11822"
   },
   "outputs": [],
   "source": [
    "for image_name in dropped['id']:\n",
    "    shutil.copy2(f\"{data_dir}/{image_name}\",\n",
    "                 f'/content/diffusiondb-images/{image_name}')\n",
    "len(os.listdir('/content/diffusiondb-images'))"
   ]
  },
  {
   "cell_type": "code",
   "execution_count": null,
   "metadata": {
    "colab": {
     "base_uri": "https://localhost:8080/",
     "height": 35
    },
    "id": "gyWVM4KslNE_",
    "outputId": "e7f76dec-89c8-43b3-f276-022c06664d65"
   },
   "outputs": [],
   "source": [
    "shutil.make_archive('/content/Prompts-search/diffusiondb-images',\n",
    "                    'zip', '/content/diffusiondb-images')"
   ]
  }
 ],
 "metadata": {
  "accelerator": "GPU",
  "colab": {
   "gpuType": "T4",
   "provenance": []
  },
  "kernelspec": {
   "display_name": "Python 3",
   "name": "python3"
  },
  "language_info": {
   "codemirror_mode": {
    "name": "ipython",
    "version": 3
   },
   "file_extension": ".py",
   "mimetype": "text/x-python",
   "name": "python",
   "nbconvert_exporter": "python",
   "pygments_lexer": "ipython3",
   "version": "3.10.7"
  }
 },
 "nbformat": 4,
 "nbformat_minor": 0
}
